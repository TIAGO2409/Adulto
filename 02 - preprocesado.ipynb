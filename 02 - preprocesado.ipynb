{
  "nbformat": 4,
  "nbformat_minor": 0,
  "metadata": {
    "colab": {
      "provenance": []
    },
    "kernelspec": {
      "name": "python3",
      "display_name": "Python 3"
    },
    "language_info": {
      "name": "python"
    }
  },
  "cells": [
    {
      "cell_type": "code",
      "source": [
        "# Importar librerías\n",
        "import pandas as pd\n",
        "from sklearn.impute import SimpleImputer\n",
        "from sklearn.preprocessing import StandardScaler, LabelEncoder\n",
        "\n",
        "# Cargar el dataset\n",
        "column_names = [\n",
        "    'age', 'workclass', 'fnlwgt', 'education', 'education-num',\n",
        "    'marital-status', 'occupation', 'relationship', 'race', 'sex',\n",
        "    'capital-gain', 'capital-loss', 'hours-per-week', 'native-country', 'income'\n",
        "]\n",
        "\n",
        "df = pd.read_csv(\n",
        "    'https://archive.ics.uci.edu/ml/machine-learning-databases/adult/adult.data',\n",
        "    names=column_names, na_values=' ?', sep=',\\s', engine='python'\n",
        ")\n",
        "\n",
        "# Mostrar valores nulos por columna\n",
        "print(\"Valores nulos antes de limpiar:\")\n",
        "print(df.isnull().sum())\n",
        "\n",
        "# Eliminar filas con valores nulos\n",
        "df_clean = df.dropna()\n",
        "\n",
        "# Codificar variables categóricas\n",
        "cat_cols = df_clean.select_dtypes(include=['object']).columns\n",
        "label_encoders = {}\n",
        "for col in cat_cols:\n",
        "    le = LabelEncoder()\n",
        "    df_clean[col] = le.fit_transform(df_clean[col].astype(str))\n",
        "    label_encoders[col] = le  # guardar el encoder por si lo necesitas después\n",
        "\n",
        "# Escalar variables numéricas\n",
        "num_cols = df_clean.select_dtypes(include=['int64', 'float64']).columns\n",
        "scaler = StandardScaler()\n",
        "df_clean[num_cols] = scaler.fit_transform(df_clean[num_cols])\n",
        "\n",
        "# Guardar el dataset limpio\n",
        "df_clean.to_csv(\"06 - dataset.csv\", index=False)\n",
        "print(\"Preprocesamiento completado. Dataset guardado como '06 - dataset.csv'.\")\n"
      ],
      "metadata": {
        "colab": {
          "base_uri": "https://localhost:8080/"
        },
        "id": "kSomFn0qRTXH",
        "outputId": "5084def1-98eb-45ea-df06-c6d929a26f0c"
      },
      "execution_count": null,
      "outputs": [
        {
          "output_type": "stream",
          "name": "stdout",
          "text": [
            "Valores nulos antes de limpiar:\n",
            "age               0\n",
            "workclass         0\n",
            "fnlwgt            0\n",
            "education         0\n",
            "education-num     0\n",
            "marital-status    0\n",
            "occupation        0\n",
            "relationship      0\n",
            "race              0\n",
            "sex               0\n",
            "capital-gain      0\n",
            "capital-loss      0\n",
            "hours-per-week    0\n",
            "native-country    0\n",
            "income            0\n",
            "dtype: int64\n",
            "Preprocesamiento completado. Dataset guardado como '06 - dataset.csv'.\n"
          ]
        }
      ]
    }
  ]
}