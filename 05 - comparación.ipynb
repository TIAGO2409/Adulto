{
  "nbformat": 4,
  "nbformat_minor": 0,
  "metadata": {
    "colab": {
      "provenance": []
    },
    "kernelspec": {
      "name": "python3",
      "display_name": "Python 3"
    },
    "language_info": {
      "name": "python"
    }
  },
  "cells": [
    {
      "cell_type": "code",
      "execution_count": 1,
      "metadata": {
        "id": "VjsPNdWgWhA8"
      },
      "outputs": [],
      "source": [
        "# Importar librerías\n",
        "import pandas as pd\n",
        "import numpy as np\n",
        "import matplotlib.pyplot as plt\n",
        "from sklearn.model_selection import train_test_split\n",
        "from sklearn.ensemble import RandomForestClassifier\n",
        "from sklearn.svm import SVC\n",
        "from sklearn.preprocessing import StandardScaler, LabelEncoder\n",
        "from sklearn.metrics import (\n",
        "    classification_report, confusion_matrix, accuracy_score,\n",
        "    cohen_kappa_score\n",
        ")\n",
        "\n",
        "# Cargar datos desde UCI\n",
        "column_names = [\n",
        "    'age', 'workclass', 'fnlwgt', 'education', 'education-num',\n",
        "    'marital-status', 'occupation', 'relationship', 'race', 'sex',\n",
        "    'capital-gain', 'capital-loss', 'hours-per-week', 'native-country', 'income'\n",
        "]\n",
        "\n",
        "df = pd.read_csv(\n",
        "    'https://archive.ics.uci.edu/ml/machine-learning-databases/adult/adult.data',\n",
        "    names=column_names, na_values=' ?', sep=',\\s', engine='python'\n",
        ")\n",
        "\n",
        "# Eliminar filas con datos faltantes\n",
        "df = df.dropna()\n",
        "\n",
        "# Codificar variable objetivo\n",
        "df['income'] = LabelEncoder().fit_transform(df['income'])\n",
        "\n",
        "# Separar features y target\n",
        "X = df.drop(\"income\", axis=1)\n",
        "y = df[\"income\"]\n",
        "\n",
        "# Codificar variables categóricas\n",
        "cat_cols = X.select_dtypes(include=['object']).columns\n",
        "for col in cat_cols:\n",
        "    X[col] = LabelEncoder().fit_transform(X[col].astype(str))\n",
        "\n",
        "# Escalar variables numéricas\n",
        "num_cols = X.select_dtypes(include=['int64', 'float64']).columns\n",
        "X[num_cols] = StandardScaler().fit_transform(X[num_cols])\n",
        "\n",
        "# Dividir dataset\n",
        "X_train, X_test, y_train, y_test = train_test_split(X, y, test_size=0.2, random_state=42)\n"
      ]
    },
    {
      "cell_type": "code",
      "source": [
        "# Modelo 1: Random Forest con los mejores parámetros\n",
        "rf_model = RandomForestClassifier(n_estimators=200, max_depth=20)\n",
        "rf_model.fit(X_train, y_train)\n",
        "rf_preds = rf_model.predict(X_test)\n",
        "\n",
        "# Modelo 2: SVM con los mejores parámetros\n",
        "svm_model = SVC(C=10, kernel='rbf')\n",
        "svm_model.fit(X_train, y_train)\n",
        "svm_preds = svm_model.predict(X_test)\n"
      ],
      "metadata": {
        "id": "iWHRWeDJW5hG"
      },
      "execution_count": 2,
      "outputs": []
    },
    {
      "cell_type": "code",
      "source": [
        "# Accuracy de cada modelo\n",
        "acc_rf = accuracy_score(y_test, rf_preds)\n",
        "acc_svm = accuracy_score(y_test, svm_preds)\n",
        "\n",
        "print(f\"Accuracy Random Forest: {acc_rf:.4f}\")\n",
        "print(f\"Accuracy SVM:           {acc_svm:.4f}\")\n",
        "\n",
        "# Reporte de clasificación\n",
        "print(\"\\n--- Random Forest ---\")\n",
        "print(classification_report(y_test, rf_preds))\n",
        "\n",
        "print(\"\\n--- SVM ---\")\n",
        "print(classification_report(y_test, svm_preds))\n"
      ],
      "metadata": {
        "colab": {
          "base_uri": "https://localhost:8080/"
        },
        "id": "7r-gb9h7XQKl",
        "outputId": "b81171ea-20aa-4b09-dc1d-897282ed335b"
      },
      "execution_count": 3,
      "outputs": [
        {
          "output_type": "stream",
          "name": "stdout",
          "text": [
            "Accuracy Random Forest: 0.8676\n",
            "Accuracy SVM:           0.8509\n",
            "\n",
            "--- Random Forest ---\n",
            "              precision    recall  f1-score   support\n",
            "\n",
            "           0       0.89      0.94      0.92      4942\n",
            "           1       0.77      0.64      0.70      1571\n",
            "\n",
            "    accuracy                           0.87      6513\n",
            "   macro avg       0.83      0.79      0.81      6513\n",
            "weighted avg       0.86      0.87      0.86      6513\n",
            "\n",
            "\n",
            "--- SVM ---\n",
            "              precision    recall  f1-score   support\n",
            "\n",
            "           0       0.87      0.94      0.91      4942\n",
            "           1       0.76      0.57      0.65      1571\n",
            "\n",
            "    accuracy                           0.85      6513\n",
            "   macro avg       0.81      0.75      0.78      6513\n",
            "weighted avg       0.84      0.85      0.84      6513\n",
            "\n"
          ]
        }
      ]
    },
    {
      "cell_type": "code",
      "source": [
        "# Comparación entre las predicciones\n",
        "kappa = cohen_kappa_score(rf_preds, svm_preds)\n",
        "print(f\"\\nCohen's Kappa entre modelos: {kappa:.4f}\")\n",
        "\n"
      ],
      "metadata": {
        "colab": {
          "base_uri": "https://localhost:8080/"
        },
        "id": "2zBRS7GVXWa1",
        "outputId": "d8b45fac-fcd1-4e9a-d4d8-2da0702bd20f"
      },
      "execution_count": 4,
      "outputs": [
        {
          "output_type": "stream",
          "name": "stdout",
          "text": [
            "\n",
            "Cohen's Kappa entre modelos: 0.7996\n"
          ]
        }
      ]
    }
  ]
}