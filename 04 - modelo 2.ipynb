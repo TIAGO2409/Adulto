{
  "nbformat": 4,
  "nbformat_minor": 0,
  "metadata": {
    "colab": {
      "provenance": []
    },
    "kernelspec": {
      "name": "python3",
      "display_name": "Python 3"
    },
    "language_info": {
      "name": "python"
    }
  },
  "cells": [
    {
      "cell_type": "code",
      "source": [
        "# Importar librerías\n",
        "import pandas as pd\n",
        "import numpy as np\n",
        "import matplotlib.pyplot as plt\n",
        "from sklearn.model_selection import train_test_split, GridSearchCV, learning_curve\n",
        "from sklearn.svm import SVC\n",
        "from sklearn.preprocessing import StandardScaler, LabelEncoder\n",
        "from sklearn.metrics import classification_report, confusion_matrix\n",
        "\n",
        "# Cargar los datos\n",
        "column_names = [\n",
        "    'age', 'workclass', 'fnlwgt', 'education', 'education-num',\n",
        "    'marital-status', 'occupation', 'relationship', 'race', 'sex',\n",
        "    'capital-gain', 'capital-loss', 'hours-per-week', 'native-country', 'income'\n",
        "]\n",
        "\n",
        "df = pd.read_csv(\n",
        "    'https://archive.ics.uci.edu/ml/machine-learning-databases/adult/adult.data',\n",
        "    names=column_names, na_values=' ?', sep=',\\s', engine='python'\n",
        ")\n",
        "\n",
        "# Eliminar filas con valores faltantes\n",
        "df = df.dropna()\n",
        "\n",
        "# Codificar la variable objetivo\n",
        "df['income'] = LabelEncoder().fit_transform(df['income'])\n",
        "\n",
        "# Separar X (features) e y (target)\n",
        "X = df.drop(\"income\", axis=1)\n",
        "y = df[\"income\"]\n",
        "\n",
        "# Codificar variables categóricas en X\n",
        "cat_cols = X.select_dtypes(include=['object']).columns\n",
        "for col in cat_cols:\n",
        "    X[col] = LabelEncoder().fit_transform(X[col].astype(str))\n",
        "\n",
        "# Escalar variables numéricas de X\n",
        "num_cols = X.select_dtypes(include=['int64', 'float64']).columns\n",
        "X[num_cols] = StandardScaler().fit_transform(X[num_cols])\n"
      ],
      "metadata": {
        "id": "1NlgBVqmU_DV"
      },
      "execution_count": 2,
      "outputs": []
    },
    {
      "cell_type": "code",
      "source": [
        "# Dividir en entrenamiento y prueba\n",
        "X_train, X_test, y_train, y_test = train_test_split(X, y, test_size=0.2, random_state=42)\n",
        "\n",
        "# Definir los parámetros a buscar\n",
        "params = {\n",
        "    'C': [1, 10],\n",
        "    'kernel': ['linear', 'rbf']\n",
        "}\n",
        "\n",
        "# Búsqueda de hiperparámetros con GridSearchCV\n",
        "clf = GridSearchCV(SVC(), param_grid=params, cv=3)\n",
        "clf.fit(X_train, y_train)\n",
        "\n",
        "# Predicciones\n",
        "y_pred = clf.predict(X_test)\n",
        "\n",
        "# Evaluación\n",
        "print(\"Matriz de confusión:\")\n",
        "print(confusion_matrix(y_test, y_pred))\n",
        "print(\"\\nReporte de clasificación:\")\n",
        "print(classification_report(y_test, y_pred))\n"
      ],
      "metadata": {
        "colab": {
          "base_uri": "https://localhost:8080/"
        },
        "id": "bMM5NMhBVB53",
        "outputId": "cbcb893c-fc47-48b8-d882-75ce4b5878df"
      },
      "execution_count": 3,
      "outputs": [
        {
          "output_type": "stream",
          "name": "stdout",
          "text": [
            "Matriz de confusión:\n",
            "[[4675  267]\n",
            " [ 697  874]]\n",
            "\n",
            "Reporte de clasificación:\n",
            "              precision    recall  f1-score   support\n",
            "\n",
            "           0       0.87      0.95      0.91      4942\n",
            "           1       0.77      0.56      0.64      1571\n",
            "\n",
            "    accuracy                           0.85      6513\n",
            "   macro avg       0.82      0.75      0.78      6513\n",
            "weighted avg       0.85      0.85      0.84      6513\n",
            "\n"
          ]
        }
      ]
    }
  ]
}